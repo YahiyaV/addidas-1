{
 "cells": [
  {
   "cell_type": "code",
   "execution_count": 2,
   "id": "3ea492c8",
   "metadata": {},
   "outputs": [],
   "source": [
    "import pandas as pd"
   ]
  },
  {
   "cell_type": "code",
   "execution_count": 3,
   "id": "846783ea",
   "metadata": {},
   "outputs": [
    {
     "data": {
      "text/html": [
       "<div>\n",
       "<style scoped>\n",
       "    .dataframe tbody tr th:only-of-type {\n",
       "        vertical-align: middle;\n",
       "    }\n",
       "\n",
       "    .dataframe tbody tr th {\n",
       "        vertical-align: top;\n",
       "    }\n",
       "\n",
       "    .dataframe thead th {\n",
       "        text-align: right;\n",
       "    }\n",
       "</style>\n",
       "<table border=\"1\" class=\"dataframe\">\n",
       "  <thead>\n",
       "    <tr style=\"text-align: right;\">\n",
       "      <th></th>\n",
       "      <th>Retailer</th>\n",
       "      <th>Retailer ID</th>\n",
       "      <th>Invoice Date</th>\n",
       "      <th>Region</th>\n",
       "      <th>State</th>\n",
       "      <th>City</th>\n",
       "      <th>Product</th>\n",
       "      <th>Price per Unit</th>\n",
       "      <th>Units Sold</th>\n",
       "      <th>Total Sales</th>\n",
       "      <th>Operating Profit</th>\n",
       "      <th>Operating Margin</th>\n",
       "      <th>Sales Method</th>\n",
       "    </tr>\n",
       "  </thead>\n",
       "  <tbody>\n",
       "    <tr>\n",
       "      <th>0</th>\n",
       "      <td>Foot Locker</td>\n",
       "      <td>1185732</td>\n",
       "      <td>2020-01-01</td>\n",
       "      <td>Northeast</td>\n",
       "      <td>New York</td>\n",
       "      <td>New York</td>\n",
       "      <td>Men's Street Footwear</td>\n",
       "      <td>50.0</td>\n",
       "      <td>1200</td>\n",
       "      <td>600000.0</td>\n",
       "      <td>300000.00</td>\n",
       "      <td>0.50</td>\n",
       "      <td>In-store</td>\n",
       "    </tr>\n",
       "    <tr>\n",
       "      <th>1</th>\n",
       "      <td>Foot Locker</td>\n",
       "      <td>1185732</td>\n",
       "      <td>2020-01-02</td>\n",
       "      <td>Northeast</td>\n",
       "      <td>New York</td>\n",
       "      <td>New York</td>\n",
       "      <td>Men's Athletic Footwear</td>\n",
       "      <td>50.0</td>\n",
       "      <td>1000</td>\n",
       "      <td>500000.0</td>\n",
       "      <td>150000.00</td>\n",
       "      <td>0.30</td>\n",
       "      <td>In-store</td>\n",
       "    </tr>\n",
       "    <tr>\n",
       "      <th>2</th>\n",
       "      <td>Foot Locker</td>\n",
       "      <td>1185732</td>\n",
       "      <td>2020-01-03</td>\n",
       "      <td>Northeast</td>\n",
       "      <td>New York</td>\n",
       "      <td>New York</td>\n",
       "      <td>Women's Street Footwear</td>\n",
       "      <td>40.0</td>\n",
       "      <td>1000</td>\n",
       "      <td>400000.0</td>\n",
       "      <td>140000.00</td>\n",
       "      <td>0.35</td>\n",
       "      <td>In-store</td>\n",
       "    </tr>\n",
       "    <tr>\n",
       "      <th>3</th>\n",
       "      <td>Foot Locker</td>\n",
       "      <td>1185732</td>\n",
       "      <td>2020-01-04</td>\n",
       "      <td>Northeast</td>\n",
       "      <td>New York</td>\n",
       "      <td>New York</td>\n",
       "      <td>Women's Athletic Footwear</td>\n",
       "      <td>45.0</td>\n",
       "      <td>850</td>\n",
       "      <td>382500.0</td>\n",
       "      <td>133875.00</td>\n",
       "      <td>0.35</td>\n",
       "      <td>In-store</td>\n",
       "    </tr>\n",
       "    <tr>\n",
       "      <th>4</th>\n",
       "      <td>Foot Locker</td>\n",
       "      <td>1185732</td>\n",
       "      <td>2020-01-05</td>\n",
       "      <td>Northeast</td>\n",
       "      <td>New York</td>\n",
       "      <td>New York</td>\n",
       "      <td>Men's Apparel</td>\n",
       "      <td>60.0</td>\n",
       "      <td>900</td>\n",
       "      <td>540000.0</td>\n",
       "      <td>162000.00</td>\n",
       "      <td>0.30</td>\n",
       "      <td>In-store</td>\n",
       "    </tr>\n",
       "    <tr>\n",
       "      <th>...</th>\n",
       "      <td>...</td>\n",
       "      <td>...</td>\n",
       "      <td>...</td>\n",
       "      <td>...</td>\n",
       "      <td>...</td>\n",
       "      <td>...</td>\n",
       "      <td>...</td>\n",
       "      <td>...</td>\n",
       "      <td>...</td>\n",
       "      <td>...</td>\n",
       "      <td>...</td>\n",
       "      <td>...</td>\n",
       "      <td>...</td>\n",
       "    </tr>\n",
       "    <tr>\n",
       "      <th>9643</th>\n",
       "      <td>Foot Locker</td>\n",
       "      <td>1185732</td>\n",
       "      <td>2021-01-24</td>\n",
       "      <td>Northeast</td>\n",
       "      <td>New Hampshire</td>\n",
       "      <td>Manchester</td>\n",
       "      <td>Men's Apparel</td>\n",
       "      <td>50.0</td>\n",
       "      <td>64</td>\n",
       "      <td>3200.0</td>\n",
       "      <td>896.00</td>\n",
       "      <td>0.28</td>\n",
       "      <td>Outlet</td>\n",
       "    </tr>\n",
       "    <tr>\n",
       "      <th>9644</th>\n",
       "      <td>Foot Locker</td>\n",
       "      <td>1185732</td>\n",
       "      <td>2021-01-24</td>\n",
       "      <td>Northeast</td>\n",
       "      <td>New Hampshire</td>\n",
       "      <td>Manchester</td>\n",
       "      <td>Women's Apparel</td>\n",
       "      <td>41.0</td>\n",
       "      <td>105</td>\n",
       "      <td>4305.0</td>\n",
       "      <td>1377.60</td>\n",
       "      <td>0.32</td>\n",
       "      <td>Outlet</td>\n",
       "    </tr>\n",
       "    <tr>\n",
       "      <th>9645</th>\n",
       "      <td>Foot Locker</td>\n",
       "      <td>1185732</td>\n",
       "      <td>2021-02-22</td>\n",
       "      <td>Northeast</td>\n",
       "      <td>New Hampshire</td>\n",
       "      <td>Manchester</td>\n",
       "      <td>Men's Street Footwear</td>\n",
       "      <td>41.0</td>\n",
       "      <td>184</td>\n",
       "      <td>7544.0</td>\n",
       "      <td>2791.28</td>\n",
       "      <td>0.37</td>\n",
       "      <td>Outlet</td>\n",
       "    </tr>\n",
       "    <tr>\n",
       "      <th>9646</th>\n",
       "      <td>Foot Locker</td>\n",
       "      <td>1185732</td>\n",
       "      <td>2021-02-22</td>\n",
       "      <td>Northeast</td>\n",
       "      <td>New Hampshire</td>\n",
       "      <td>Manchester</td>\n",
       "      <td>Men's Athletic Footwear</td>\n",
       "      <td>42.0</td>\n",
       "      <td>70</td>\n",
       "      <td>2940.0</td>\n",
       "      <td>1234.80</td>\n",
       "      <td>0.42</td>\n",
       "      <td>Outlet</td>\n",
       "    </tr>\n",
       "    <tr>\n",
       "      <th>9647</th>\n",
       "      <td>Foot Locker</td>\n",
       "      <td>1185732</td>\n",
       "      <td>2021-02-22</td>\n",
       "      <td>Northeast</td>\n",
       "      <td>New Hampshire</td>\n",
       "      <td>Manchester</td>\n",
       "      <td>Women's Street Footwear</td>\n",
       "      <td>29.0</td>\n",
       "      <td>83</td>\n",
       "      <td>2407.0</td>\n",
       "      <td>649.89</td>\n",
       "      <td>0.27</td>\n",
       "      <td>Outlet</td>\n",
       "    </tr>\n",
       "  </tbody>\n",
       "</table>\n",
       "<p>9648 rows × 13 columns</p>\n",
       "</div>"
      ],
      "text/plain": [
       "         Retailer  Retailer ID Invoice Date     Region          State  \\\n",
       "0     Foot Locker      1185732   2020-01-01  Northeast       New York   \n",
       "1     Foot Locker      1185732   2020-01-02  Northeast       New York   \n",
       "2     Foot Locker      1185732   2020-01-03  Northeast       New York   \n",
       "3     Foot Locker      1185732   2020-01-04  Northeast       New York   \n",
       "4     Foot Locker      1185732   2020-01-05  Northeast       New York   \n",
       "...           ...          ...          ...        ...            ...   \n",
       "9643  Foot Locker      1185732   2021-01-24  Northeast  New Hampshire   \n",
       "9644  Foot Locker      1185732   2021-01-24  Northeast  New Hampshire   \n",
       "9645  Foot Locker      1185732   2021-02-22  Northeast  New Hampshire   \n",
       "9646  Foot Locker      1185732   2021-02-22  Northeast  New Hampshire   \n",
       "9647  Foot Locker      1185732   2021-02-22  Northeast  New Hampshire   \n",
       "\n",
       "            City                    Product  Price per Unit  Units Sold  \\\n",
       "0       New York      Men's Street Footwear            50.0        1200   \n",
       "1       New York    Men's Athletic Footwear            50.0        1000   \n",
       "2       New York    Women's Street Footwear            40.0        1000   \n",
       "3       New York  Women's Athletic Footwear            45.0         850   \n",
       "4       New York              Men's Apparel            60.0         900   \n",
       "...          ...                        ...             ...         ...   \n",
       "9643  Manchester              Men's Apparel            50.0          64   \n",
       "9644  Manchester            Women's Apparel            41.0         105   \n",
       "9645  Manchester      Men's Street Footwear            41.0         184   \n",
       "9646  Manchester    Men's Athletic Footwear            42.0          70   \n",
       "9647  Manchester    Women's Street Footwear            29.0          83   \n",
       "\n",
       "      Total Sales  Operating Profit  Operating Margin Sales Method  \n",
       "0        600000.0         300000.00              0.50     In-store  \n",
       "1        500000.0         150000.00              0.30     In-store  \n",
       "2        400000.0         140000.00              0.35     In-store  \n",
       "3        382500.0         133875.00              0.35     In-store  \n",
       "4        540000.0         162000.00              0.30     In-store  \n",
       "...           ...               ...               ...          ...  \n",
       "9643       3200.0            896.00              0.28       Outlet  \n",
       "9644       4305.0           1377.60              0.32       Outlet  \n",
       "9645       7544.0           2791.28              0.37       Outlet  \n",
       "9646       2940.0           1234.80              0.42       Outlet  \n",
       "9647       2407.0            649.89              0.27       Outlet  \n",
       "\n",
       "[9648 rows x 13 columns]"
      ]
     },
     "execution_count": 3,
     "metadata": {},
     "output_type": "execute_result"
    }
   ],
   "source": [
    "a=pd.read_excel(\"D:\\yahiya\\Adidas US Sales Datasets.xlsx\")\n",
    "a"
   ]
  },
  {
   "cell_type": "code",
   "execution_count": 5,
   "id": "581ce6c8",
   "metadata": {},
   "outputs": [],
   "source": [
    "a=pd.DataFrame(a)"
   ]
  },
  {
   "cell_type": "code",
   "execution_count": 5,
   "id": "4591bb95",
   "metadata": {},
   "outputs": [
    {
     "name": "stdout",
     "output_type": "stream",
     "text": [
      "<class 'pandas.core.frame.DataFrame'>\n",
      "RangeIndex: 9648 entries, 0 to 9647\n",
      "Data columns (total 13 columns):\n",
      " #   Column            Non-Null Count  Dtype         \n",
      "---  ------            --------------  -----         \n",
      " 0   Retailer          9648 non-null   object        \n",
      " 1   Retailer ID       9648 non-null   int64         \n",
      " 2   Invoice Date      9648 non-null   datetime64[ns]\n",
      " 3   Region            9648 non-null   object        \n",
      " 4   State             9648 non-null   object        \n",
      " 5   City              9648 non-null   object        \n",
      " 6   Product           9648 non-null   object        \n",
      " 7   Price per Unit    9648 non-null   float64       \n",
      " 8   Units Sold        9648 non-null   int64         \n",
      " 9   Total Sales       9648 non-null   float64       \n",
      " 10  Operating Profit  9648 non-null   float64       \n",
      " 11  Operating Margin  9648 non-null   float64       \n",
      " 12  Sales Method      9648 non-null   object        \n",
      "dtypes: datetime64[ns](1), float64(4), int64(2), object(6)\n",
      "memory usage: 980.0+ KB\n"
     ]
    }
   ],
   "source": [
    "a.info()"
   ]
  },
  {
   "cell_type": "code",
   "execution_count": 10,
   "id": "5b564e1c",
   "metadata": {},
   "outputs": [
    {
     "data": {
      "text/plain": [
       "count            9648\n",
       "unique              6\n",
       "top       Foot Locker\n",
       "freq             2637\n",
       "Name: Retailer, dtype: object"
      ]
     },
     "execution_count": 10,
     "metadata": {},
     "output_type": "execute_result"
    }
   ],
   "source": [
    "a[\"Retailer\"].describe()"
   ]
  },
  {
   "cell_type": "code",
   "execution_count": 39,
   "id": "8d040c65",
   "metadata": {},
   "outputs": [
    {
     "data": {
      "text/plain": [
       "Foot Locker      2637\n",
       "West Gear        2374\n",
       "Sports Direct    2032\n",
       "Kohl's           1030\n",
       "Amazon            949\n",
       "Walmart           626\n",
       "Name: Retailer, dtype: int64"
      ]
     },
     "execution_count": 39,
     "metadata": {},
     "output_type": "execute_result"
    }
   ],
   "source": [
    "a[\"Retailer\"].value_counts()\n"
   ]
  },
  {
   "cell_type": "code",
   "execution_count": 21,
   "id": "0bcfda72",
   "metadata": {},
   "outputs": [
    {
     "data": {
      "text/plain": [
       "Index(['Retailer', 'Retailer ID', 'Invoice Date', 'Region', 'State', 'City',\n",
       "       'Product', 'Price per Unit', 'Units Sold', 'Total Sales',\n",
       "       'Operating Profit', 'Operating Margin', 'Sales Method'],\n",
       "      dtype='object')"
      ]
     },
     "execution_count": 21,
     "metadata": {},
     "output_type": "execute_result"
    }
   ],
   "source": [
    "a.columns"
   ]
  },
  {
   "cell_type": "code",
   "execution_count": 16,
   "id": "04df5378",
   "metadata": {},
   "outputs": [
    {
     "data": {
      "text/html": [
       "<div>\n",
       "<style scoped>\n",
       "    .dataframe tbody tr th:only-of-type {\n",
       "        vertical-align: middle;\n",
       "    }\n",
       "\n",
       "    .dataframe tbody tr th {\n",
       "        vertical-align: top;\n",
       "    }\n",
       "\n",
       "    .dataframe thead th {\n",
       "        text-align: right;\n",
       "    }\n",
       "</style>\n",
       "<table border=\"1\" class=\"dataframe\">\n",
       "  <thead>\n",
       "    <tr style=\"text-align: right;\">\n",
       "      <th></th>\n",
       "      <th>Retailer ID</th>\n",
       "      <th>Price per Unit</th>\n",
       "      <th>Units Sold</th>\n",
       "      <th>Total Sales</th>\n",
       "      <th>Operating Profit</th>\n",
       "      <th>Operating Margin</th>\n",
       "    </tr>\n",
       "  </thead>\n",
       "  <tbody>\n",
       "    <tr>\n",
       "      <th>count</th>\n",
       "      <td>949.0</td>\n",
       "      <td>949.000000</td>\n",
       "      <td>949.000000</td>\n",
       "      <td>949.000000</td>\n",
       "      <td>949.000000</td>\n",
       "      <td>949.000000</td>\n",
       "    </tr>\n",
       "    <tr>\n",
       "      <th>mean</th>\n",
       "      <td>1185732.0</td>\n",
       "      <td>48.759747</td>\n",
       "      <td>208.630137</td>\n",
       "      <td>81874.512118</td>\n",
       "      <td>30367.232150</td>\n",
       "      <td>0.417871</td>\n",
       "    </tr>\n",
       "    <tr>\n",
       "      <th>std</th>\n",
       "      <td>0.0</td>\n",
       "      <td>11.832303</td>\n",
       "      <td>169.646546</td>\n",
       "      <td>113390.214535</td>\n",
       "      <td>44192.495075</td>\n",
       "      <td>0.084018</td>\n",
       "    </tr>\n",
       "    <tr>\n",
       "      <th>min</th>\n",
       "      <td>1185732.0</td>\n",
       "      <td>19.000000</td>\n",
       "      <td>13.000000</td>\n",
       "      <td>416.000000</td>\n",
       "      <td>166.400000</td>\n",
       "      <td>0.250000</td>\n",
       "    </tr>\n",
       "    <tr>\n",
       "      <th>25%</th>\n",
       "      <td>1185732.0</td>\n",
       "      <td>40.000000</td>\n",
       "      <td>84.000000</td>\n",
       "      <td>3808.000000</td>\n",
       "      <td>1661.920000</td>\n",
       "      <td>0.350000</td>\n",
       "    </tr>\n",
       "    <tr>\n",
       "      <th>50%</th>\n",
       "      <td>1185732.0</td>\n",
       "      <td>50.000000</td>\n",
       "      <td>149.000000</td>\n",
       "      <td>7876.000000</td>\n",
       "      <td>3931.200000</td>\n",
       "      <td>0.400000</td>\n",
       "    </tr>\n",
       "    <tr>\n",
       "      <th>75%</th>\n",
       "      <td>1185732.0</td>\n",
       "      <td>56.000000</td>\n",
       "      <td>275.000000</td>\n",
       "      <td>137500.000000</td>\n",
       "      <td>47250.000000</td>\n",
       "      <td>0.490000</td>\n",
       "    </tr>\n",
       "    <tr>\n",
       "      <th>max</th>\n",
       "      <td>1185732.0</td>\n",
       "      <td>80.000000</td>\n",
       "      <td>900.000000</td>\n",
       "      <td>618750.000000</td>\n",
       "      <td>290625.000000</td>\n",
       "      <td>0.650000</td>\n",
       "    </tr>\n",
       "  </tbody>\n",
       "</table>\n",
       "</div>"
      ],
      "text/plain": [
       "       Retailer ID  Price per Unit  Units Sold    Total Sales  \\\n",
       "count        949.0      949.000000  949.000000     949.000000   \n",
       "mean     1185732.0       48.759747  208.630137   81874.512118   \n",
       "std            0.0       11.832303  169.646546  113390.214535   \n",
       "min      1185732.0       19.000000   13.000000     416.000000   \n",
       "25%      1185732.0       40.000000   84.000000    3808.000000   \n",
       "50%      1185732.0       50.000000  149.000000    7876.000000   \n",
       "75%      1185732.0       56.000000  275.000000  137500.000000   \n",
       "max      1185732.0       80.000000  900.000000  618750.000000   \n",
       "\n",
       "       Operating Profit  Operating Margin  \n",
       "count        949.000000        949.000000  \n",
       "mean       30367.232150          0.417871  \n",
       "std        44192.495075          0.084018  \n",
       "min          166.400000          0.250000  \n",
       "25%         1661.920000          0.350000  \n",
       "50%         3931.200000          0.400000  \n",
       "75%        47250.000000          0.490000  \n",
       "max       290625.000000          0.650000  "
      ]
     },
     "execution_count": 16,
     "metadata": {},
     "output_type": "execute_result"
    }
   ],
   "source": [
    "a.loc[a[\"Retailer\"]==\"Amazon\"].describe()"
   ]
  },
  {
   "cell_type": "code",
   "execution_count": 17,
   "id": "209e0256",
   "metadata": {},
   "outputs": [
    {
     "data": {
      "text/plain": [
       "Foot Locker      2637\n",
       "West Gear        2374\n",
       "Sports Direct    2032\n",
       "Kohl's           1030\n",
       "Amazon            949\n",
       "Walmart           626\n",
       "Name: Retailer, dtype: int64"
      ]
     },
     "execution_count": 17,
     "metadata": {},
     "output_type": "execute_result"
    }
   ],
   "source": [
    "a[\"Retailer\"].value_counts()"
   ]
  },
  {
   "cell_type": "code",
   "execution_count": 18,
   "id": "2fdfab7a",
   "metadata": {},
   "outputs": [
    {
     "name": "stderr",
     "output_type": "stream",
     "text": [
      "C:\\Users\\rousa\\AppData\\Local\\Temp/ipykernel_1944/23830285.py:1: FutureWarning: Treating datetime data as categorical rather than numeric in `.describe` is deprecated and will be removed in a future version of pandas. Specify `datetime_is_numeric=True` to silence this warning and adopt the future behavior now.\n",
      "  a[\"Invoice Date\"].describe()\n"
     ]
    },
    {
     "data": {
      "text/plain": [
       "count                    9648\n",
       "unique                    724\n",
       "top       2021-01-17 00:00:00\n",
       "freq                       77\n",
       "first     2020-01-01 00:00:00\n",
       "last      2021-12-31 00:00:00\n",
       "Name: Invoice Date, dtype: object"
      ]
     },
     "execution_count": 18,
     "metadata": {},
     "output_type": "execute_result"
    }
   ],
   "source": [
    "a[\"Invoice Date\"].describe()"
   ]
  },
  {
   "cell_type": "code",
   "execution_count": 22,
   "id": "2ed4e180",
   "metadata": {},
   "outputs": [
    {
     "data": {
      "text/plain": [
       "Online      4889\n",
       "Outlet      3019\n",
       "In-store    1740\n",
       "Name: Sales Method, dtype: int64"
      ]
     },
     "execution_count": 22,
     "metadata": {},
     "output_type": "execute_result"
    }
   ],
   "source": [
    "a[\"Sales Method\"].value_counts()"
   ]
  },
  {
   "cell_type": "code",
   "execution_count": 23,
   "id": "b33e1da3",
   "metadata": {},
   "outputs": [
    {
     "data": {
      "text/plain": [
       "Men's Street Footwear        1610\n",
       "Men's Athletic Footwear      1610\n",
       "Women's Street Footwear      1608\n",
       "Women's Apparel              1608\n",
       "Women's Athletic Footwear    1606\n",
       "Men's Apparel                1606\n",
       "Name: Product, dtype: int64"
      ]
     },
     "execution_count": 23,
     "metadata": {},
     "output_type": "execute_result"
    }
   ],
   "source": [
    "a[\"Product\"].value_counts()"
   ]
  },
  {
   "cell_type": "code",
   "execution_count": 27,
   "id": "b43836a1",
   "metadata": {},
   "outputs": [
    {
     "data": {
      "text/plain": [
       "California        432\n",
       "Texas             432\n",
       "New York          360\n",
       "Florida           360\n",
       "Mississippi       216\n",
       "Oregon            216\n",
       "Louisiana         216\n",
       "Idaho             216\n",
       "New Mexico        216\n",
       "Georgia           216\n",
       "Arkansas          216\n",
       "Virginia          216\n",
       "Oklahoma          216\n",
       "Connecticut       216\n",
       "Rhode Island      216\n",
       "Massachusetts     216\n",
       "Vermont           216\n",
       "Utah              216\n",
       "Arizona           216\n",
       "New Hampshire     216\n",
       "Pennsylvania      216\n",
       "Nevada            216\n",
       "Alabama           216\n",
       "Tennessee         216\n",
       "South Dakota      144\n",
       "Illinois          144\n",
       "Colorado          144\n",
       "New Jersey        144\n",
       "Delaware          144\n",
       "Maryland          144\n",
       "West Virginia     144\n",
       "Indiana           144\n",
       "Wisconsin         144\n",
       "Iowa              144\n",
       "North Dakota      144\n",
       "Michigan          144\n",
       "Kansas            144\n",
       "Missouri          144\n",
       "Minnesota         144\n",
       "Montana           144\n",
       "Kentucky          144\n",
       "Ohio              144\n",
       "North Carolina    144\n",
       "South Carolina    144\n",
       "Nebraska          144\n",
       "Maine             144\n",
       "Alaska            144\n",
       "Hawaii            144\n",
       "Wyoming           144\n",
       "Washington        144\n",
       "Name: State, dtype: int64"
      ]
     },
     "execution_count": 27,
     "metadata": {},
     "output_type": "execute_result"
    }
   ],
   "source": [
    "a[\"State\"].value_counts()"
   ]
  },
  {
   "cell_type": "code",
   "execution_count": 30,
   "id": "8a0ac1a7",
   "metadata": {},
   "outputs": [
    {
     "data": {
      "text/plain": [
       "Portland          360\n",
       "Charleston        288\n",
       "Orlando           216\n",
       "Salt Lake City    216\n",
       "Houston           216\n",
       "Boise             216\n",
       "Phoenix           216\n",
       "Albuquerque       216\n",
       "Atlanta           216\n",
       "New York          216\n",
       "Jackson           216\n",
       "Little Rock       216\n",
       "Oklahoma City     216\n",
       "Hartford          216\n",
       "Providence        216\n",
       "Boston            216\n",
       "Burlington        216\n",
       "Richmond          216\n",
       "New Orleans       216\n",
       "Manchester        216\n",
       "Dallas            216\n",
       "Philadelphia      216\n",
       "Knoxville         216\n",
       "Birmingham        216\n",
       "Las Vegas         216\n",
       "Los Angeles       216\n",
       "San Francisco     216\n",
       "Chicago           144\n",
       "Newark            144\n",
       "Baltimore         144\n",
       "Indianapolis      144\n",
       "Milwaukee         144\n",
       "Des Moines        144\n",
       "Fargo             144\n",
       "Sioux Falls       144\n",
       "Wichita           144\n",
       "Wilmington        144\n",
       "Honolulu          144\n",
       "Albany            144\n",
       "Louisville        144\n",
       "Columbus          144\n",
       "Charlotte         144\n",
       "Seattle           144\n",
       "Miami             144\n",
       "Minneapolis       144\n",
       "Billings          144\n",
       "Omaha             144\n",
       "St. Louis         144\n",
       "Detroit           144\n",
       "Anchorage         144\n",
       "Cheyenne          144\n",
       "Denver            144\n",
       "Name: City, dtype: int64"
      ]
     },
     "execution_count": 30,
     "metadata": {},
     "output_type": "execute_result"
    }
   ],
   "source": [
    "a[\"City\"].value_counts()"
   ]
  },
  {
   "cell_type": "code",
   "execution_count": 31,
   "id": "c87f4454",
   "metadata": {},
   "outputs": [
    {
     "data": {
      "text/plain": [
       "count         9648\n",
       "unique          52\n",
       "top       Portland\n",
       "freq           360\n",
       "Name: City, dtype: object"
      ]
     },
     "execution_count": 31,
     "metadata": {},
     "output_type": "execute_result"
    }
   ],
   "source": [
    "a[\"City\"].describe()"
   ]
  },
  {
   "cell_type": "code",
   "execution_count": 32,
   "id": "e8401b64",
   "metadata": {},
   "outputs": [
    {
     "data": {
      "text/plain": [
       "count           9648\n",
       "unique            50\n",
       "top       California\n",
       "freq             432\n",
       "Name: State, dtype: object"
      ]
     },
     "execution_count": 32,
     "metadata": {},
     "output_type": "execute_result"
    }
   ],
   "source": [
    "a[\"State\"].describe()"
   ]
  },
  {
   "cell_type": "code",
   "execution_count": 33,
   "id": "5d41ac62",
   "metadata": {},
   "outputs": [
    {
     "data": {
      "text/plain": [
       "West         2448\n",
       "Northeast    2376\n",
       "Midwest      1872\n",
       "South        1728\n",
       "Southeast    1224\n",
       "Name: Region, dtype: int64"
      ]
     },
     "execution_count": 33,
     "metadata": {},
     "output_type": "execute_result"
    }
   ],
   "source": [
    "a[\"Region\"].value_counts()"
   ]
  },
  {
   "cell_type": "code",
   "execution_count": 34,
   "id": "5ec6246e",
   "metadata": {},
   "outputs": [
    {
     "data": {
      "text/plain": [
       "count     9648\n",
       "unique       5\n",
       "top       West\n",
       "freq      2448\n",
       "Name: Region, dtype: object"
      ]
     },
     "execution_count": 34,
     "metadata": {},
     "output_type": "execute_result"
    }
   ],
   "source": [
    "a[\"Region\"].describe()"
   ]
  },
  {
   "cell_type": "code",
   "execution_count": 38,
   "id": "fdf88565",
   "metadata": {},
   "outputs": [
    {
     "data": {
      "text/plain": [
       "Foot Locker      2637\n",
       "West Gear        2374\n",
       "Sports Direct    2032\n",
       "Kohl's           1030\n",
       "Amazon            949\n",
       "Walmart           626\n",
       "Name: Retailer, dtype: int64"
      ]
     },
     "execution_count": 38,
     "metadata": {},
     "output_type": "execute_result"
    }
   ],
   "source": [
    "a[\"Retailer\"].value_counts()"
   ]
  },
  {
   "cell_type": "code",
   "execution_count": 40,
   "id": "6dedc238",
   "metadata": {},
   "outputs": [
    {
     "data": {
      "text/plain": [
       "count            9648\n",
       "unique              6\n",
       "top       Foot Locker\n",
       "freq             2637\n",
       "Name: Retailer, dtype: object"
      ]
     },
     "execution_count": 40,
     "metadata": {},
     "output_type": "execute_result"
    }
   ],
   "source": [
    "a[\"Retailer\"].describe()                 "
   ]
  },
  {
   "cell_type": "code",
   "execution_count": 93,
   "id": "c3670ed1",
   "metadata": {},
   "outputs": [
    {
     "data": {
      "text/plain": [
       "count                      9648\n",
       "unique                        6\n",
       "top       Men's Street Footwear\n",
       "freq                       1610\n",
       "Name: Product, dtype: object"
      ]
     },
     "execution_count": 93,
     "metadata": {},
     "output_type": "execute_result"
    }
   ],
   "source": [
    "a[\"Product\"].describe() "
   ]
  },
  {
   "cell_type": "code",
   "execution_count": 96,
   "id": "f30a9fe7",
   "metadata": {
    "scrolled": true
   },
   "outputs": [
    {
     "data": {
      "text/plain": [
       "Men's Street Footwear        1610\n",
       "Men's Athletic Footwear      1610\n",
       "Women's Street Footwear      1608\n",
       "Women's Apparel              1608\n",
       "Women's Athletic Footwear    1606\n",
       "Men's Apparel                1606\n",
       "Name: Product, dtype: int64"
      ]
     },
     "execution_count": 96,
     "metadata": {},
     "output_type": "execute_result"
    }
   ],
   "source": [
    "a[\"Product\"].value_counts() "
   ]
  },
  {
   "cell_type": "code",
   "execution_count": 4,
   "id": "c0c58a8e",
   "metadata": {},
   "outputs": [],
   "source": [
    "z=a[a[\"Retailer\"]==\"Amazon\"]"
   ]
  },
  {
   "cell_type": "code",
   "execution_count": 5,
   "id": "f062264f",
   "metadata": {},
   "outputs": [],
   "source": [
    "f=a[a[\"Retailer\"]==\"Foot Locker\"]"
   ]
  },
  {
   "cell_type": "code",
   "execution_count": 6,
   "id": "c2911652",
   "metadata": {},
   "outputs": [],
   "source": [
    "g=a[a[\"Retailer\"]==\"West Gear\"]"
   ]
  },
  {
   "cell_type": "code",
   "execution_count": 45,
   "id": "3a2ec268",
   "metadata": {},
   "outputs": [],
   "source": [
    "s=a[a[\"Retailer\"]==\"Sports Direct\"]"
   ]
  },
  {
   "cell_type": "code",
   "execution_count": 8,
   "id": "4629db68",
   "metadata": {},
   "outputs": [],
   "source": [
    "k=a[a[\"Retailer\"]==\"Kohl's\"]"
   ]
  },
  {
   "cell_type": "code",
   "execution_count": 9,
   "id": "8c0e8950",
   "metadata": {},
   "outputs": [],
   "source": [
    "w=a[a[\"Retailer\"]==\"Walmart\"]"
   ]
  },
  {
   "cell_type": "code",
   "execution_count": 59,
   "id": "200a4df8",
   "metadata": {},
   "outputs": [
    {
     "data": {
      "text/plain": [
       "count            949\n",
       "unique             9\n",
       "top       Burlington\n",
       "freq             204\n",
       "Name: City, dtype: object"
      ]
     },
     "execution_count": 59,
     "metadata": {},
     "output_type": "execute_result"
    }
   ],
   "source": [
    "z[\"City\"].describe()"
   ]
  },
  {
   "cell_type": "code",
   "execution_count": 60,
   "id": "ca990b5e",
   "metadata": {},
   "outputs": [
    {
     "data": {
      "text/plain": [
       "count             2637\n",
       "unique              32\n",
       "top       Philadelphia\n",
       "freq               204\n",
       "Name: City, dtype: object"
      ]
     },
     "execution_count": 60,
     "metadata": {},
     "output_type": "execute_result"
    }
   ],
   "source": [
    "f[\"City\"].describe()"
   ]
  },
  {
   "cell_type": "code",
   "execution_count": 70,
   "id": "9ead28c2",
   "metadata": {},
   "outputs": [
    {
     "data": {
      "text/plain": [
       "count         2374\n",
       "unique          23\n",
       "top       Portland\n",
       "freq           224\n",
       "Name: City, dtype: object"
      ]
     },
     "execution_count": 70,
     "metadata": {},
     "output_type": "execute_result"
    }
   ],
   "source": [
    "g[\"City\"].describe()"
   ]
  },
  {
   "cell_type": "code",
   "execution_count": 62,
   "id": "223b106b",
   "metadata": {},
   "outputs": [
    {
     "data": {
      "text/plain": [
       "count            1030\n",
       "unique             12\n",
       "top       Los Angeles\n",
       "freq              204\n",
       "Name: City, dtype: object"
      ]
     },
     "execution_count": 62,
     "metadata": {},
     "output_type": "execute_result"
    }
   ],
   "source": [
    "s[\"City\"].describe()"
   ]
  },
  {
   "cell_type": "code",
   "execution_count": 64,
   "id": "bb8e9c37",
   "metadata": {},
   "outputs": [
    {
     "data": {
      "text/plain": [
       "count            1030\n",
       "unique             12\n",
       "top       Los Angeles\n",
       "freq              204\n",
       "Name: City, dtype: object"
      ]
     },
     "execution_count": 64,
     "metadata": {},
     "output_type": "execute_result"
    }
   ],
   "source": [
    "k[\"City\"].describe()"
   ]
  },
  {
   "cell_type": "code",
   "execution_count": 65,
   "id": "1b8768e5",
   "metadata": {},
   "outputs": [
    {
     "data": {
      "text/plain": [
       "count         626\n",
       "unique          6\n",
       "top       Houston\n",
       "freq          150\n",
       "Name: City, dtype: object"
      ]
     },
     "execution_count": 65,
     "metadata": {},
     "output_type": "execute_result"
    }
   ],
   "source": [
    "w[\"City\"].describe()"
   ]
  },
  {
   "cell_type": "code",
   "execution_count": 67,
   "id": "57f4c9b8",
   "metadata": {},
   "outputs": [
    {
     "data": {
      "text/plain": [
       "Philadelphia    204\n",
       "Phoenix         177\n",
       "Richmond        177\n",
       "Charleston      156\n",
       "Providence      150\n",
       "New York        138\n",
       "Chicago         136\n",
       "Minneapolis     136\n",
       "Omaha           136\n",
       "St. Louis       118\n",
       "Wilmington      100\n",
       "Des Moines      100\n",
       "Sioux Falls     100\n",
       "Jackson          84\n",
       "Boise            81\n",
       "Manchester       81\n",
       "Honolulu         74\n",
       "Hartford         66\n",
       "Baltimore        58\n",
       "Miami            52\n",
       "Wichita          44\n",
       "Fargo            44\n",
       "Atlanta          39\n",
       "Louisville       36\n",
       "New Orleans      36\n",
       "Detroit          26\n",
       "Cheyenne         26\n",
       "Anchorage        18\n",
       "Los Angeles      12\n",
       "Knoxville        12\n",
       "Dallas           12\n",
       "Seattle           8\n",
       "Name: City, dtype: int64"
      ]
     },
     "execution_count": 67,
     "metadata": {},
     "output_type": "execute_result"
    }
   ],
   "source": [
    "f[\"City\"].value_counts()"
   ]
  },
  {
   "cell_type": "code",
   "execution_count": 71,
   "id": "de30aa5a",
   "metadata": {},
   "outputs": [
    {
     "data": {
      "text/plain": [
       "Portland          224\n",
       "Salt Lake City    216\n",
       "Las Vegas         216\n",
       "San Francisco     204\n",
       "New Orleans       180\n",
       "Oklahoma City     150\n",
       "Indianapolis      144\n",
       "Milwaukee         144\n",
       "Denver            144\n",
       "Seattle           136\n",
       "Albany            118\n",
       "Charleston        106\n",
       "Boise              75\n",
       "Little Rock        66\n",
       "Miami              52\n",
       "Baltimore          46\n",
       "Des Moines         44\n",
       "Orlando            39\n",
       "St. Louis          26\n",
       "Houston            12\n",
       "Philadelphia       12\n",
       "Burlington         12\n",
       "Columbus            8\n",
       "Name: City, dtype: int64"
      ]
     },
     "execution_count": 71,
     "metadata": {},
     "output_type": "execute_result"
    }
   ],
   "source": [
    "g[\"City\"].value_counts()"
   ]
  },
  {
   "cell_type": "code",
   "execution_count": 72,
   "id": "17daa36f",
   "metadata": {},
   "outputs": [
    {
     "data": {
      "text/plain": [
       "Los Angeles      204\n",
       "Albuquerque      177\n",
       "Billings         136\n",
       "Cheyenne         118\n",
       "Wichita          100\n",
       "Newark           100\n",
       "Oklahoma City     66\n",
       "Wilmington        44\n",
       "Phoenix           39\n",
       "Albany            26\n",
       "San Francisco     12\n",
       "Minneapolis        8\n",
       "Name: City, dtype: int64"
      ]
     },
     "execution_count": 72,
     "metadata": {},
     "output_type": "execute_result"
    }
   ],
   "source": [
    "s[\"City\"].value_counts()"
   ]
  },
  {
   "cell_type": "code",
   "execution_count": 73,
   "id": "c02b7813",
   "metadata": {},
   "outputs": [
    {
     "data": {
      "text/plain": [
       "Los Angeles      204\n",
       "Albuquerque      177\n",
       "Billings         136\n",
       "Cheyenne         118\n",
       "Wichita          100\n",
       "Newark           100\n",
       "Oklahoma City     66\n",
       "Wilmington        44\n",
       "Phoenix           39\n",
       "Albany            26\n",
       "San Francisco     12\n",
       "Minneapolis        8\n",
       "Name: City, dtype: int64"
      ]
     },
     "execution_count": 73,
     "metadata": {},
     "output_type": "execute_result"
    }
   ],
   "source": [
    "k[\"City\"].value_counts()"
   ]
  },
  {
   "cell_type": "code",
   "execution_count": 74,
   "id": "9c5dcb2b",
   "metadata": {},
   "outputs": [
    {
     "data": {
      "text/plain": [
       "Burlington    204\n",
       "Portland      136\n",
       "Columbus      136\n",
       "Manchester    135\n",
       "Anchorage     126\n",
       "Louisville    108\n",
       "Boston         66\n",
       "Charlotte      26\n",
       "Birmingham     12\n",
       "Name: City, dtype: int64"
      ]
     },
     "execution_count": 74,
     "metadata": {},
     "output_type": "execute_result"
    }
   ],
   "source": [
    "z[\"City\"].value_counts()"
   ]
  },
  {
   "cell_type": "code",
   "execution_count": 75,
   "id": "bc99f9e7",
   "metadata": {},
   "outputs": [
    {
     "data": {
      "text/plain": [
       "Houston        150\n",
       "Orlando        150\n",
       "Little Rock    150\n",
       "New York        66\n",
       "Jackson         66\n",
       "Honolulu        44\n",
       "Name: City, dtype: int64"
      ]
     },
     "execution_count": 75,
     "metadata": {},
     "output_type": "execute_result"
    }
   ],
   "source": [
    "w[\"City\"].value_counts()"
   ]
  },
  {
   "cell_type": "code",
   "execution_count": 76,
   "id": "ebf24cbf",
   "metadata": {},
   "outputs": [
    {
     "data": {
      "text/plain": [
       "220094720.0"
      ]
     },
     "execution_count": 76,
     "metadata": {},
     "output_type": "execute_result"
    }
   ],
   "source": [
    "f[\"Total Sales\"].sum()"
   ]
  },
  {
   "cell_type": "code",
   "execution_count": 77,
   "id": "91cb6cbb",
   "metadata": {},
   "outputs": [
    {
     "data": {
      "text/plain": [
       "242964333.0"
      ]
     },
     "execution_count": 77,
     "metadata": {},
     "output_type": "execute_result"
    }
   ],
   "source": [
    "g[\"Total Sales\"].sum()"
   ]
  },
  {
   "cell_type": "code",
   "execution_count": 78,
   "id": "48267785",
   "metadata": {},
   "outputs": [
    {
     "data": {
      "text/plain": [
       "102114753.0"
      ]
     },
     "execution_count": 78,
     "metadata": {},
     "output_type": "execute_result"
    }
   ],
   "source": [
    "s[\"Total Sales\"].sum()"
   ]
  },
  {
   "cell_type": "code",
   "execution_count": 79,
   "id": "f9928801",
   "metadata": {},
   "outputs": [
    {
     "data": {
      "text/plain": [
       "102114753.0"
      ]
     },
     "execution_count": 79,
     "metadata": {},
     "output_type": "execute_result"
    }
   ],
   "source": [
    "k[\"Total Sales\"].sum()"
   ]
  },
  {
   "cell_type": "code",
   "execution_count": 80,
   "id": "ebb2e53e",
   "metadata": {},
   "outputs": [
    {
     "data": {
      "text/plain": [
       "77698912.0"
      ]
     },
     "execution_count": 80,
     "metadata": {},
     "output_type": "execute_result"
    }
   ],
   "source": [
    "z[\"Total Sales\"].sum()"
   ]
  },
  {
   "cell_type": "code",
   "execution_count": 81,
   "id": "df290cc9",
   "metadata": {},
   "outputs": [
    {
     "data": {
      "text/plain": [
       "74558410.0"
      ]
     },
     "execution_count": 81,
     "metadata": {},
     "output_type": "execute_result"
    }
   ],
   "source": [
    "w[\"Total Sales\"].sum()"
   ]
  },
  {
   "cell_type": "code",
   "execution_count": 82,
   "id": "603f2b8e",
   "metadata": {},
   "outputs": [
    {
     "data": {
      "text/plain": [
       "80722124.81"
      ]
     },
     "execution_count": 82,
     "metadata": {},
     "output_type": "execute_result"
    }
   ],
   "source": [
    "f[\"Operating Profit\"].sum()"
   ]
  },
  {
   "cell_type": "code",
   "execution_count": 83,
   "id": "8fe12136",
   "metadata": {},
   "outputs": [
    {
     "data": {
      "text/plain": [
       "85667873.18"
      ]
     },
     "execution_count": 83,
     "metadata": {},
     "output_type": "execute_result"
    }
   ],
   "source": [
    "g[\"Operating Profit\"].sum()"
   ]
  },
  {
   "cell_type": "code",
   "execution_count": 84,
   "id": "c4cce6bf",
   "metadata": {},
   "outputs": [
    {
     "data": {
      "text/plain": [
       "36811252.580000006"
      ]
     },
     "execution_count": 84,
     "metadata": {},
     "output_type": "execute_result"
    }
   ],
   "source": [
    "s[\"Operating Profit\"].sum()"
   ]
  },
  {
   "cell_type": "code",
   "execution_count": 85,
   "id": "2dd0eaa9",
   "metadata": {},
   "outputs": [
    {
     "data": {
      "text/plain": [
       "36811252.580000006"
      ]
     },
     "execution_count": 85,
     "metadata": {},
     "output_type": "execute_result"
    }
   ],
   "source": [
    "k[\"Operating Profit\"].sum()"
   ]
  },
  {
   "cell_type": "code",
   "execution_count": 86,
   "id": "f8721a36",
   "metadata": {},
   "outputs": [
    {
     "data": {
      "text/plain": [
       "28818503.31"
      ]
     },
     "execution_count": 86,
     "metadata": {},
     "output_type": "execute_result"
    }
   ],
   "source": [
    "z[\"Operating Profit\"].sum()"
   ]
  },
  {
   "cell_type": "code",
   "execution_count": 92,
   "id": "f59e3e40",
   "metadata": {},
   "outputs": [
    {
     "data": {
      "text/plain": [
       "25782052.61"
      ]
     },
     "execution_count": 92,
     "metadata": {},
     "output_type": "execute_result"
    }
   ],
   "source": [
    "w[\"Operating Profit\"].sum()"
   ]
  },
  {
   "cell_type": "code",
   "execution_count": 10,
   "id": "c10b8f04",
   "metadata": {},
   "outputs": [],
   "source": [
    "ms=a[a[\"Product\"]==\"Men's Street Footwear\"]"
   ]
  },
  {
   "cell_type": "code",
   "execution_count": 11,
   "id": "499872c5",
   "metadata": {},
   "outputs": [],
   "source": [
    "mf=a[a[\"Product\"]==\"Men's Athletic Footwear\"]"
   ]
  },
  {
   "cell_type": "code",
   "execution_count": 12,
   "id": "3a11b020",
   "metadata": {},
   "outputs": [],
   "source": [
    "ma=a[a[\"Product\"]==\"Men's Apparel\"]"
   ]
  },
  {
   "cell_type": "code",
   "execution_count": 13,
   "id": "9b913fc6",
   "metadata": {},
   "outputs": [],
   "source": [
    "ws=a[a[\"Product\"]==\"Women's Street Footwear\"]"
   ]
  },
  {
   "cell_type": "code",
   "execution_count": 14,
   "id": "5f0dbe99",
   "metadata": {},
   "outputs": [],
   "source": [
    "wf=a[a[\"Product\"]==\"Women's Athletic Footwear\"]"
   ]
  },
  {
   "cell_type": "code",
   "execution_count": 15,
   "id": "b497f2f7",
   "metadata": {},
   "outputs": [],
   "source": [
    "wa=a[a[\"Product\"]==\"Women's Apparel\"]"
   ]
  },
  {
   "cell_type": "code",
   "execution_count": 108,
   "id": "709c2e2b",
   "metadata": {},
   "outputs": [
    {
     "data": {
      "text/plain": [
       "Retailer\n",
       "Foot Locker      449\n",
       "West Gear        394\n",
       "Sports Direct    335\n",
       "Kohl's           172\n",
       "Amazon           159\n",
       "Walmart          101\n",
       "dtype: int64"
      ]
     },
     "execution_count": 108,
     "metadata": {},
     "output_type": "execute_result"
    }
   ],
   "source": [
    "ms.value_counts(\"Retailer\")"
   ]
  },
  {
   "cell_type": "code",
   "execution_count": 109,
   "id": "d266ee3e",
   "metadata": {},
   "outputs": [
    {
     "data": {
      "text/plain": [
       "Retailer\n",
       "Foot Locker      442\n",
       "West Gear        396\n",
       "Sports Direct    337\n",
       "Kohl's           172\n",
       "Amazon           159\n",
       "Walmart          104\n",
       "dtype: int64"
      ]
     },
     "execution_count": 109,
     "metadata": {},
     "output_type": "execute_result"
    }
   ],
   "source": [
    "mf.value_counts(\"Retailer\")"
   ]
  },
  {
   "cell_type": "code",
   "execution_count": 110,
   "id": "afbfd957",
   "metadata": {},
   "outputs": [
    {
     "data": {
      "text/plain": [
       "Retailer\n",
       "Foot Locker      433\n",
       "West Gear        393\n",
       "Sports Direct    339\n",
       "Kohl's           171\n",
       "Amazon           157\n",
       "Walmart          113\n",
       "dtype: int64"
      ]
     },
     "execution_count": 110,
     "metadata": {},
     "output_type": "execute_result"
    }
   ],
   "source": [
    "ma.value_counts(\"Retailer\")"
   ]
  },
  {
   "cell_type": "code",
   "execution_count": 111,
   "id": "1e4e4889",
   "metadata": {},
   "outputs": [
    {
     "data": {
      "text/plain": [
       "Retailer\n",
       "Foot Locker      438\n",
       "West Gear        400\n",
       "Sports Direct    342\n",
       "Kohl's           172\n",
       "Amazon           157\n",
       "Walmart           99\n",
       "dtype: int64"
      ]
     },
     "execution_count": 111,
     "metadata": {},
     "output_type": "execute_result"
    }
   ],
   "source": [
    "ws.value_counts(\"Retailer\")"
   ]
  },
  {
   "cell_type": "code",
   "execution_count": 112,
   "id": "3991bcad",
   "metadata": {},
   "outputs": [
    {
     "data": {
      "text/plain": [
       "Retailer\n",
       "Foot Locker      442\n",
       "West Gear        395\n",
       "Sports Direct    338\n",
       "Kohl's           171\n",
       "Amazon           158\n",
       "Walmart          102\n",
       "dtype: int64"
      ]
     },
     "execution_count": 112,
     "metadata": {},
     "output_type": "execute_result"
    }
   ],
   "source": [
    "wf.value_counts(\"Retailer\")"
   ]
  },
  {
   "cell_type": "code",
   "execution_count": 113,
   "id": "25613c04",
   "metadata": {},
   "outputs": [
    {
     "data": {
      "text/plain": [
       "Retailer\n",
       "Foot Locker      433\n",
       "West Gear        396\n",
       "Sports Direct    341\n",
       "Kohl's           172\n",
       "Amazon           159\n",
       "Walmart          107\n",
       "dtype: int64"
      ]
     },
     "execution_count": 113,
     "metadata": {},
     "output_type": "execute_result"
    }
   ],
   "source": [
    "wa.value_counts(\"Retailer\")"
   ]
  },
  {
   "cell_type": "code",
   "execution_count": 131,
   "id": "81c2c8bc",
   "metadata": {},
   "outputs": [
    {
     "data": {
      "text/plain": [
       "Retailer                        Foot Locker\n",
       "Retailer ID                         1197831\n",
       "Invoice Date            2021-12-31 00:00:00\n",
       "Region                                 West\n",
       "State                               Wyoming\n",
       "City                             Wilmington\n",
       "Product             Women's Street Footwear\n",
       "Price per Unit                        105.0\n",
       "Units Sold                             1275\n",
       "Total Sales                        765000.0\n",
       "Operating Profit                   382500.0\n",
       "Operating Margin                        0.7\n",
       "Sales Method                         Outlet\n",
       "dtype: object"
      ]
     },
     "execution_count": 131,
     "metadata": {},
     "output_type": "execute_result"
    }
   ],
   "source": [
    "f.max()"
   ]
  },
  {
   "cell_type": "code",
   "execution_count": 177,
   "id": "2ee32c87",
   "metadata": {},
   "outputs": [
    {
     "data": {
      "text/plain": [
       "Retailer                    Foot Locker\n",
       "Retailer ID                     1128299\n",
       "Invoice Date        2020-01-01 00:00:00\n",
       "Region                          Midwest\n",
       "State                            Alaska\n",
       "City                          Anchorage\n",
       "Product                   Men's Apparel\n",
       "Price per Unit                      9.0\n",
       "Units Sold                            0\n",
       "Total Sales                         0.0\n",
       "Operating Profit                    0.0\n",
       "Operating Margin                   0.15\n",
       "Sales Method                   In-store\n",
       "dtype: object"
      ]
     },
     "execution_count": 177,
     "metadata": {},
     "output_type": "execute_result"
    }
   ],
   "source": [
    "f.min()"
   ]
  },
  {
   "cell_type": "code",
   "execution_count": 132,
   "id": "dfd76f7a",
   "metadata": {},
   "outputs": [
    {
     "data": {
      "text/plain": [
       "Retailer                          West Gear\n",
       "Retailer ID                         1197831\n",
       "Invoice Date            2021-12-23 00:00:00\n",
       "Region                                 West\n",
       "State                             Wisconsin\n",
       "City                              St. Louis\n",
       "Product             Women's Street Footwear\n",
       "Price per Unit                        110.0\n",
       "Units Sold                             1150\n",
       "Total Sales                        825000.0\n",
       "Operating Profit                   341250.0\n",
       "Operating Margin                       0.77\n",
       "Sales Method                         Outlet\n",
       "dtype: object"
      ]
     },
     "execution_count": 132,
     "metadata": {},
     "output_type": "execute_result"
    }
   ],
   "source": [
    "g.max()"
   ]
  },
  {
   "cell_type": "code",
   "execution_count": 178,
   "id": "c8ec0c8b",
   "metadata": {},
   "outputs": [
    {
     "data": {
      "text/plain": [
       "Retailer                      West Gear\n",
       "Retailer ID                     1128299\n",
       "Invoice Date        2020-01-02 00:00:00\n",
       "Region                          Midwest\n",
       "State                          Arkansas\n",
       "City                             Albany\n",
       "Product                   Men's Apparel\n",
       "Price per Unit                      7.0\n",
       "Units Sold                            7\n",
       "Total Sales                       203.0\n",
       "Operating Profit                  93.38\n",
       "Operating Margin                    0.1\n",
       "Sales Method                   In-store\n",
       "dtype: object"
      ]
     },
     "execution_count": 178,
     "metadata": {},
     "output_type": "execute_result"
    }
   ],
   "source": [
    "g.min()"
   ]
  },
  {
   "cell_type": "code",
   "execution_count": 133,
   "id": "2eb4c1ca",
   "metadata": {},
   "outputs": [
    {
     "data": {
      "text/plain": [
       "Retailer                             Kohl's\n",
       "Retailer ID                         1197831\n",
       "Invoice Date            2021-12-25 00:00:00\n",
       "Region                                 West\n",
       "State                               Wyoming\n",
       "City                             Wilmington\n",
       "Product             Women's Street Footwear\n",
       "Price per Unit                         75.0\n",
       "Units Sold                              950\n",
       "Total Sales                        520000.0\n",
       "Operating Profit                   236250.0\n",
       "Operating Margin                       0.75\n",
       "Sales Method                         Outlet\n",
       "dtype: object"
      ]
     },
     "execution_count": 133,
     "metadata": {},
     "output_type": "execute_result"
    }
   ],
   "source": [
    "s.max()"
   ]
  },
  {
   "cell_type": "code",
   "execution_count": 179,
   "id": "157e7a27",
   "metadata": {},
   "outputs": [
    {
     "data": {
      "text/plain": [
       "Retailer                         Kohl's\n",
       "Retailer ID                     1128299\n",
       "Invoice Date        2020-12-28 00:00:00\n",
       "Region                          Midwest\n",
       "State                           Arizona\n",
       "City                             Albany\n",
       "Product                   Men's Apparel\n",
       "Price per Unit                      9.0\n",
       "Units Sold                           22\n",
       "Total Sales                       520.0\n",
       "Operating Profit                  249.6\n",
       "Operating Margin                    0.2\n",
       "Sales Method                   In-store\n",
       "dtype: object"
      ]
     },
     "execution_count": 179,
     "metadata": {},
     "output_type": "execute_result"
    }
   ],
   "source": [
    "s.min()"
   ]
  },
  {
   "cell_type": "code",
   "execution_count": 134,
   "id": "7f8307ba",
   "metadata": {},
   "outputs": [
    {
     "data": {
      "text/plain": [
       "Retailer                             Kohl's\n",
       "Retailer ID                         1197831\n",
       "Invoice Date            2021-12-25 00:00:00\n",
       "Region                                 West\n",
       "State                               Wyoming\n",
       "City                             Wilmington\n",
       "Product             Women's Street Footwear\n",
       "Price per Unit                         75.0\n",
       "Units Sold                              950\n",
       "Total Sales                        520000.0\n",
       "Operating Profit                   236250.0\n",
       "Operating Margin                       0.75\n",
       "Sales Method                         Outlet\n",
       "dtype: object"
      ]
     },
     "execution_count": 134,
     "metadata": {},
     "output_type": "execute_result"
    }
   ],
   "source": [
    "k.max()"
   ]
  },
  {
   "cell_type": "code",
   "execution_count": 180,
   "id": "28098c20",
   "metadata": {},
   "outputs": [
    {
     "data": {
      "text/plain": [
       "Retailer                         Kohl's\n",
       "Retailer ID                     1128299\n",
       "Invoice Date        2020-12-28 00:00:00\n",
       "Region                          Midwest\n",
       "State                           Arizona\n",
       "City                             Albany\n",
       "Product                   Men's Apparel\n",
       "Price per Unit                      9.0\n",
       "Units Sold                           22\n",
       "Total Sales                       520.0\n",
       "Operating Profit                  249.6\n",
       "Operating Margin                    0.2\n",
       "Sales Method                   In-store\n",
       "dtype: object"
      ]
     },
     "execution_count": 180,
     "metadata": {},
     "output_type": "execute_result"
    }
   ],
   "source": [
    "k.min()"
   ]
  },
  {
   "cell_type": "code",
   "execution_count": 135,
   "id": "4c356b03",
   "metadata": {},
   "outputs": [
    {
     "data": {
      "text/plain": [
       "Retailer                             Amazon\n",
       "Retailer ID                         1185732\n",
       "Invoice Date            2021-12-31 00:00:00\n",
       "Region                                 West\n",
       "State                               Vermont\n",
       "City                               Portland\n",
       "Product             Women's Street Footwear\n",
       "Price per Unit                         80.0\n",
       "Units Sold                              900\n",
       "Total Sales                        618750.0\n",
       "Operating Profit                   290625.0\n",
       "Operating Margin                       0.65\n",
       "Sales Method                         Outlet\n",
       "dtype: object"
      ]
     },
     "execution_count": 135,
     "metadata": {},
     "output_type": "execute_result"
    }
   ],
   "source": [
    "z.max()"
   ]
  },
  {
   "cell_type": "code",
   "execution_count": 181,
   "id": "f0ccd528",
   "metadata": {},
   "outputs": [
    {
     "data": {
      "text/plain": [
       "Retailer                         Amazon\n",
       "Retailer ID                     1185732\n",
       "Invoice Date        2021-01-13 00:00:00\n",
       "Region                          Midwest\n",
       "State                           Alabama\n",
       "City                          Anchorage\n",
       "Product                   Men's Apparel\n",
       "Price per Unit                     19.0\n",
       "Units Sold                           13\n",
       "Total Sales                       416.0\n",
       "Operating Profit                  166.4\n",
       "Operating Margin                   0.25\n",
       "Sales Method                   In-store\n",
       "dtype: object"
      ]
     },
     "execution_count": 181,
     "metadata": {},
     "output_type": "execute_result"
    }
   ],
   "source": [
    "z.min()"
   ]
  },
  {
   "cell_type": "code",
   "execution_count": 136,
   "id": "704405fa",
   "metadata": {},
   "outputs": [
    {
     "data": {
      "text/plain": [
       "Retailer                            Walmart\n",
       "Retailer ID                         1197831\n",
       "Invoice Date            2021-12-16 00:00:00\n",
       "Region                                 West\n",
       "State                                 Texas\n",
       "City                                Orlando\n",
       "Product             Women's Street Footwear\n",
       "Price per Unit                        110.0\n",
       "Units Sold                             1200\n",
       "Total Sales                        825000.0\n",
       "Operating Profit                   390000.0\n",
       "Operating Margin                       0.65\n",
       "Sales Method                         Outlet\n",
       "dtype: object"
      ]
     },
     "execution_count": 136,
     "metadata": {},
     "output_type": "execute_result"
    }
   ],
   "source": [
    "w.max()"
   ]
  },
  {
   "cell_type": "code",
   "execution_count": 182,
   "id": "86580889",
   "metadata": {},
   "outputs": [
    {
     "data": {
      "text/plain": [
       "Retailer                        Walmart\n",
       "Retailer ID                     1128299\n",
       "Invoice Date        2020-04-17 00:00:00\n",
       "Region                        Northeast\n",
       "State                          Arkansas\n",
       "City                           Honolulu\n",
       "Product                   Men's Apparel\n",
       "Price per Unit                      8.0\n",
       "Units Sold                           58\n",
       "Total Sales                       880.0\n",
       "Operating Profit                  403.2\n",
       "Operating Margin                   0.15\n",
       "Sales Method                   In-store\n",
       "dtype: object"
      ]
     },
     "execution_count": 182,
     "metadata": {},
     "output_type": "execute_result"
    }
   ],
   "source": [
    "w.min()"
   ]
  },
  {
   "cell_type": "code",
   "execution_count": 141,
   "id": "ef2b0505",
   "metadata": {},
   "outputs": [
    {
     "data": {
      "text/plain": [
       "593320"
      ]
     },
     "execution_count": 141,
     "metadata": {},
     "output_type": "execute_result"
    }
   ],
   "source": [
    "ms[\"Units Sold\"].sum()"
   ]
  },
  {
   "cell_type": "code",
   "execution_count": 142,
   "id": "c390ed7a",
   "metadata": {},
   "outputs": [
    {
     "data": {
      "text/plain": [
       "435526"
      ]
     },
     "execution_count": 142,
     "metadata": {},
     "output_type": "execute_result"
    }
   ],
   "source": [
    "mf[\"Units Sold\"].sum()"
   ]
  },
  {
   "cell_type": "code",
   "execution_count": 143,
   "id": "dc810140",
   "metadata": {},
   "outputs": [
    {
     "data": {
      "text/plain": [
       "306683"
      ]
     },
     "execution_count": 143,
     "metadata": {},
     "output_type": "execute_result"
    }
   ],
   "source": [
    "ma[\"Units Sold\"].sum()"
   ]
  },
  {
   "cell_type": "code",
   "execution_count": 144,
   "id": "2573e9b1",
   "metadata": {},
   "outputs": [
    {
     "data": {
      "text/plain": [
       "392269"
      ]
     },
     "execution_count": 144,
     "metadata": {},
     "output_type": "execute_result"
    }
   ],
   "source": [
    "ws[\"Units Sold\"].sum()"
   ]
  },
  {
   "cell_type": "code",
   "execution_count": 145,
   "id": "76bfe607",
   "metadata": {},
   "outputs": [
    {
     "data": {
      "text/plain": [
       "317236"
      ]
     },
     "execution_count": 145,
     "metadata": {},
     "output_type": "execute_result"
    }
   ],
   "source": [
    "wf[\"Units Sold\"].sum()"
   ]
  },
  {
   "cell_type": "code",
   "execution_count": 148,
   "id": "e8845fab",
   "metadata": {},
   "outputs": [
    {
     "data": {
      "text/plain": [
       "433827"
      ]
     },
     "execution_count": 148,
     "metadata": {},
     "output_type": "execute_result"
    }
   ],
   "source": [
    "wa[\"Units Sold\"].sum()"
   ]
  },
  {
   "cell_type": "code",
   "execution_count": 157,
   "id": "d6980420",
   "metadata": {},
   "outputs": [
    {
     "data": {
      "text/plain": [
       "Region          West\n",
       "State        Wyoming\n",
       "City      Wilmington\n",
       "dtype: object"
      ]
     },
     "execution_count": 157,
     "metadata": {},
     "output_type": "execute_result"
    }
   ],
   "source": [
    "f.loc[:,[\"Region\",\"State\",\"City\"]].max()"
   ]
  },
  {
   "cell_type": "code",
   "execution_count": 183,
   "id": "f866b333",
   "metadata": {},
   "outputs": [
    {
     "data": {
      "text/plain": [
       "Region      Midwest\n",
       "State        Alaska\n",
       "City      Anchorage\n",
       "dtype: object"
      ]
     },
     "execution_count": 183,
     "metadata": {},
     "output_type": "execute_result"
    }
   ],
   "source": [
    "f.loc[:,[\"Region\",\"State\",\"City\"]].min()"
   ]
  },
  {
   "cell_type": "code",
   "execution_count": 158,
   "id": "26013087",
   "metadata": {},
   "outputs": [
    {
     "data": {
      "text/plain": [
       "Region         West\n",
       "State     Wisconsin\n",
       "City      St. Louis\n",
       "dtype: object"
      ]
     },
     "execution_count": 158,
     "metadata": {},
     "output_type": "execute_result"
    }
   ],
   "source": [
    "g.loc[:,[\"Region\",\"State\",\"City\"]].max()"
   ]
  },
  {
   "cell_type": "code",
   "execution_count": 186,
   "id": "35621d82",
   "metadata": {},
   "outputs": [
    {
     "data": {
      "text/plain": [
       "Region     Midwest\n",
       "State     Arkansas\n",
       "City        Albany\n",
       "dtype: object"
      ]
     },
     "execution_count": 186,
     "metadata": {},
     "output_type": "execute_result"
    }
   ],
   "source": [
    "g.loc[:,[\"Region\",\"State\",\"City\"]].min()"
   ]
  },
  {
   "cell_type": "code",
   "execution_count": 185,
   "id": "02a6f2f0",
   "metadata": {},
   "outputs": [
    {
     "data": {
      "text/plain": [
       "Region          West\n",
       "State        Wyoming\n",
       "City      Wilmington\n",
       "dtype: object"
      ]
     },
     "execution_count": 185,
     "metadata": {},
     "output_type": "execute_result"
    }
   ],
   "source": [
    "s.loc[:,[\"Region\",\"State\",\"City\"]].max()"
   ]
  },
  {
   "cell_type": "code",
   "execution_count": 187,
   "id": "951d29fb",
   "metadata": {},
   "outputs": [
    {
     "data": {
      "text/plain": [
       "Region    Midwest\n",
       "State     Arizona\n",
       "City       Albany\n",
       "dtype: object"
      ]
     },
     "execution_count": 187,
     "metadata": {},
     "output_type": "execute_result"
    }
   ],
   "source": [
    "s.loc[:,[\"Region\",\"State\",\"City\"]].min()"
   ]
  },
  {
   "cell_type": "code",
   "execution_count": 160,
   "id": "4f70b104",
   "metadata": {},
   "outputs": [
    {
     "data": {
      "text/plain": [
       "Region          West\n",
       "State        Wyoming\n",
       "City      Wilmington\n",
       "dtype: object"
      ]
     },
     "execution_count": 160,
     "metadata": {},
     "output_type": "execute_result"
    }
   ],
   "source": [
    "k.loc[:,[\"Region\",\"State\",\"City\"]].max()"
   ]
  },
  {
   "cell_type": "code",
   "execution_count": 188,
   "id": "f8e5b19e",
   "metadata": {},
   "outputs": [
    {
     "data": {
      "text/plain": [
       "Region    Midwest\n",
       "State     Arizona\n",
       "City       Albany\n",
       "dtype: object"
      ]
     },
     "execution_count": 188,
     "metadata": {},
     "output_type": "execute_result"
    }
   ],
   "source": [
    "k.loc[:,[\"Region\",\"State\",\"City\"]].min()"
   ]
  },
  {
   "cell_type": "code",
   "execution_count": 161,
   "id": "fa68668c",
   "metadata": {},
   "outputs": [
    {
     "data": {
      "text/plain": [
       "Region        West\n",
       "State      Vermont\n",
       "City      Portland\n",
       "dtype: object"
      ]
     },
     "execution_count": 161,
     "metadata": {},
     "output_type": "execute_result"
    }
   ],
   "source": [
    "z.loc[:,[\"Region\",\"State\",\"City\"]].max()"
   ]
  },
  {
   "cell_type": "code",
   "execution_count": 189,
   "id": "70b61e03",
   "metadata": {},
   "outputs": [
    {
     "data": {
      "text/plain": [
       "Region      Midwest\n",
       "State       Alabama\n",
       "City      Anchorage\n",
       "dtype: object"
      ]
     },
     "execution_count": 189,
     "metadata": {},
     "output_type": "execute_result"
    }
   ],
   "source": [
    "z.loc[:,[\"Region\",\"State\",\"City\"]].min()"
   ]
  },
  {
   "cell_type": "code",
   "execution_count": 175,
   "id": "eb8faeca",
   "metadata": {},
   "outputs": [
    {
     "data": {
      "text/plain": [
       "Region       West\n",
       "State       Texas\n",
       "City      Orlando\n",
       "dtype: object"
      ]
     },
     "execution_count": 175,
     "metadata": {},
     "output_type": "execute_result"
    }
   ],
   "source": [
    "w.loc[:,[\"Region\",\"State\",\"City\"]].max()"
   ]
  },
  {
   "cell_type": "code",
   "execution_count": 19,
   "id": "54175955",
   "metadata": {},
   "outputs": [
    {
     "data": {
      "text/plain": [
       "Region    Northeast\n",
       "State      Arkansas\n",
       "City       Honolulu\n",
       "dtype: object"
      ]
     },
     "execution_count": 19,
     "metadata": {},
     "output_type": "execute_result"
    }
   ],
   "source": [
    "w.loc[:,[\"Region\",\"State\",\"City\"]].min()"
   ]
  },
  {
   "cell_type": "code",
   "execution_count": 6,
   "id": "99cae8f8",
   "metadata": {},
   "outputs": [
    {
     "data": {
      "text/plain": [
       "West         2448\n",
       "Northeast    2376\n",
       "Midwest      1872\n",
       "South        1728\n",
       "Southeast    1224\n",
       "Name: Region, dtype: int64"
      ]
     },
     "execution_count": 6,
     "metadata": {},
     "output_type": "execute_result"
    }
   ],
   "source": [
    "a[\"Region\"].value_counts()"
   ]
  },
  {
   "cell_type": "code",
   "execution_count": 25,
   "id": "6ac3e61e",
   "metadata": {},
   "outputs": [
    {
     "data": {
      "text/plain": [
       "28818503.31"
      ]
     },
     "execution_count": 25,
     "metadata": {},
     "output_type": "execute_result"
    }
   ],
   "source": [
    "z[\"Operating Profit\"].sum()"
   ]
  },
  {
   "cell_type": "code",
   "execution_count": 26,
   "id": "0ae6bd1e",
   "metadata": {},
   "outputs": [
    {
     "data": {
      "text/plain": [
       "\"Men's Apparel\""
      ]
     },
     "execution_count": 26,
     "metadata": {},
     "output_type": "execute_result"
    }
   ],
   "source": [
    "f[\"Product\"].min()"
   ]
  },
  {
   "cell_type": "code",
   "execution_count": 17,
   "id": "9d13c291",
   "metadata": {},
   "outputs": [
    {
     "data": {
      "text/plain": [
       "\"Men's Apparel\""
      ]
     },
     "execution_count": 17,
     "metadata": {},
     "output_type": "execute_result"
    }
   ],
   "source": [
    "g[\"Product\"].min()"
   ]
  },
  {
   "cell_type": "code",
   "execution_count": 18,
   "id": "e173e422",
   "metadata": {},
   "outputs": [
    {
     "data": {
      "text/plain": [
       "nan"
      ]
     },
     "execution_count": 18,
     "metadata": {},
     "output_type": "execute_result"
    }
   ],
   "source": [
    "s[\"Product\"].min()"
   ]
  },
  {
   "cell_type": "code",
   "execution_count": 19,
   "id": "abb44c55",
   "metadata": {},
   "outputs": [
    {
     "data": {
      "text/plain": [
       "\"Men's Apparel\""
      ]
     },
     "execution_count": 19,
     "metadata": {},
     "output_type": "execute_result"
    }
   ],
   "source": [
    "z[\"Product\"].min()"
   ]
  },
  {
   "cell_type": "code",
   "execution_count": 40,
   "id": "58fa15c9",
   "metadata": {},
   "outputs": [
    {
     "data": {
      "text/plain": [
       "\"Men's Apparel\""
      ]
     },
     "execution_count": 40,
     "metadata": {},
     "output_type": "execute_result"
    }
   ],
   "source": [
    "k[\"Product\"].min()"
   ]
  },
  {
   "cell_type": "code",
   "execution_count": 46,
   "id": "62cfb88c",
   "metadata": {},
   "outputs": [
    {
     "data": {
      "text/plain": [
       "\"Men's Apparel\""
      ]
     },
     "execution_count": 46,
     "metadata": {},
     "output_type": "execute_result"
    }
   ],
   "source": [
    "s[\"Product\"].min()"
   ]
  },
  {
   "cell_type": "code",
   "execution_count": 50,
   "id": "342465a1",
   "metadata": {},
   "outputs": [
    {
     "data": {
      "text/plain": [
       "0    f\n",
       "1    g\n",
       "2    s\n",
       "3    k\n",
       "4    z\n",
       "5    w\n",
       "dtype: object"
      ]
     },
     "execution_count": 50,
     "metadata": {},
     "output_type": "execute_result"
    }
   ],
   "source": [
    "sa=pd.Series()"
   ]
  },
  {
   "cell_type": "code",
   "execution_count": 52,
   "id": "cdcac9b3",
   "metadata": {},
   "outputs": [
    {
     "data": {
      "text/plain": [
       "74332954.96000001"
      ]
     },
     "execution_count": 52,
     "metadata": {},
     "output_type": "execute_result"
    }
   ],
   "source": [
    "s[\"Operating Profit\"].sum()"
   ]
  },
  {
   "cell_type": "code",
   "execution_count": null,
   "id": "27e377cc",
   "metadata": {},
   "outputs": [],
   "source": []
  }
 ],
 "metadata": {
  "kernelspec": {
   "display_name": "Python 3 (ipykernel)",
   "language": "python",
   "name": "python3"
  },
  "language_info": {
   "codemirror_mode": {
    "name": "ipython",
    "version": 3
   },
   "file_extension": ".py",
   "mimetype": "text/x-python",
   "name": "python",
   "nbconvert_exporter": "python",
   "pygments_lexer": "ipython3",
   "version": "3.9.7"
  }
 },
 "nbformat": 4,
 "nbformat_minor": 5
}
